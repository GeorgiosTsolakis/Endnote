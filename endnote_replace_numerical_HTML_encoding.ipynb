{
 "cells": [
  {
   "cell_type": "markdown",
   "metadata": {},
   "source": [
    "### Imports"
   ]
  },
  {
   "cell_type": "code",
   "execution_count": 1,
   "metadata": {
    "collapsed": true
   },
   "outputs": [],
   "source": [
    "#pip install -U namedentities\n",
    "\n",
    "import os\n",
    "from namedentities import *"
   ]
  },
  {
   "cell_type": "markdown",
   "metadata": {},
   "source": [
    "### Import files, replace the `HTML entities` with `Unicode Characters`, and Save"
   ]
  },
  {
   "cell_type": "code",
   "execution_count": 2,
   "metadata": {
    "collapsed": true
   },
   "outputs": [],
   "source": [
    "d_folder = \"D:/Users/Georgios/Downloads/\"\n",
    "\n",
    "files = [file for file in os.listdir(d_folder) if file.endswith(\".ris\")]\n",
    "#print(len(files))\n",
    "\n",
    "for file in files:\n",
    "    with open(d_folder + file, encoding=\"UTF-8\") as f:\n",
    "        newfile = repr(unicode_entities(f.read())).replace(\"'\",\"\").replace(\"us-ascii\",\"UTF-8\")\n",
    "            \n",
    "        textlist = newfile.split(\"\\\\n\")\n",
    "        #print(textlist)\n",
    "        \n",
    "        final = \"\\n\".join([item.strip() for item in textlist]).replace(\"\\\\\", \"'\")\n",
    "        #print(final)\n",
    "        \n",
    "        outfile = open(d_folder + \"new/\" + file, encoding='UTF-8', mode=\"w\")\n",
    "        outfile.write(final)\n",
    "        outfile.close()"
   ]
  }
 ],
 "metadata": {
  "kernelspec": {
   "display_name": "Python 3",
   "language": "python",
   "name": "python3"
  },
  "language_info": {
   "codemirror_mode": {
    "name": "ipython",
    "version": 3
   },
   "file_extension": ".py",
   "mimetype": "text/x-python",
   "name": "python",
   "nbconvert_exporter": "python",
   "pygments_lexer": "ipython3",
   "version": "3.6.3"
  }
 },
 "nbformat": 4,
 "nbformat_minor": 2
}
